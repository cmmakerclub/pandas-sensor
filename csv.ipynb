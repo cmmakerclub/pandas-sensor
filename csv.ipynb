{
 "cells": [
  {
   "cell_type": "code",
   "execution_count": 1,
   "metadata": {},
   "outputs": [],
   "source": [
    "# !ls"
   ]
  },
  {
   "cell_type": "code",
   "execution_count": 2,
   "metadata": {},
   "outputs": [
    {
     "name": "stdout",
     "output_type": "stream",
     "text": [
      "Requirement already satisfied: pandas in /Users/nat/.virtualenvs/pandas-test/lib/python3.7/site-packages (1.0.3)\n",
      "Requirement already satisfied: matplotlib in /Users/nat/.virtualenvs/pandas-test/lib/python3.7/site-packages (3.2.1)\n",
      "Requirement already satisfied: pytz>=2017.2 in /Users/nat/.virtualenvs/pandas-test/lib/python3.7/site-packages (from pandas) (2019.3)\n",
      "Requirement already satisfied: python-dateutil>=2.6.1 in /Users/nat/.virtualenvs/pandas-test/lib/python3.7/site-packages (from pandas) (2.8.1)\n",
      "Requirement already satisfied: numpy>=1.13.3 in /Users/nat/.virtualenvs/pandas-test/lib/python3.7/site-packages (from pandas) (1.18.2)\n",
      "Requirement already satisfied: cycler>=0.10 in /Users/nat/.virtualenvs/pandas-test/lib/python3.7/site-packages (from matplotlib) (0.10.0)\n",
      "Requirement already satisfied: kiwisolver>=1.0.1 in /Users/nat/.virtualenvs/pandas-test/lib/python3.7/site-packages (from matplotlib) (1.1.0)\n",
      "Requirement already satisfied: pyparsing!=2.0.4,!=2.1.2,!=2.1.6,>=2.0.1 in /Users/nat/.virtualenvs/pandas-test/lib/python3.7/site-packages (from matplotlib) (2.4.6)\n",
      "Requirement already satisfied: six>=1.5 in /Users/nat/.virtualenvs/pandas-test/lib/python3.7/site-packages (from python-dateutil>=2.6.1->pandas) (1.14.0)\n",
      "Requirement already satisfied: setuptools in /Users/nat/.virtualenvs/pandas-test/lib/python3.7/site-packages (from kiwisolver>=1.0.1->matplotlib) (46.1.3)\n"
     ]
    }
   ],
   "source": [
    "!pip install pandas matplotlib"
   ]
  },
  {
   "cell_type": "code",
   "execution_count": 3,
   "metadata": {},
   "outputs": [],
   "source": [
    "import pandas as pd\n",
    "%matplotlib inline\n",
    "import matplotlib.pyplot as plt\n",
    "import matplotlib\n",
    "import sys\n",
    "plt.style.use('seaborn-whitegrid')\n",
    "import numpy as np"
   ]
  },
  {
   "cell_type": "code",
   "execution_count": 146,
   "metadata": {},
   "outputs": [
    {
     "name": "stdout",
     "output_type": "stream",
     "text": [
      "Python version 3.7.5 (default, Nov  1 2019, 02:16:23) \n",
      "[Clang 11.0.0 (clang-1100.0.33.8)]\n",
      "Pandas version 1.0.3\n",
      "Matplotlib version 3.2.1\n"
     ]
    }
   ],
   "source": [
    "print('Python version ' + sys.version)\n",
    "print('Pandas version ' + pd.__version__)\n",
    "print('Matplotlib version ' + matplotlib.__version__)"
   ]
  },
  {
   "cell_type": "code",
   "execution_count": 147,
   "metadata": {},
   "outputs": [],
   "source": [
    "# !echo \"time,date,temp\" | cat - 20200401.CSV > 20200401_header.CSV"
   ]
  },
  {
   "cell_type": "code",
   "execution_count": 148,
   "metadata": {},
   "outputs": [],
   "source": [
    "df = pd.read_csv('20200401.CSV', names=['time','date','temp'])"
   ]
  },
  {
   "cell_type": "code",
   "execution_count": 149,
   "metadata": {},
   "outputs": [
    {
     "data": {
      "text/html": [
       "<div>\n",
       "<style scoped>\n",
       "    .dataframe tbody tr th:only-of-type {\n",
       "        vertical-align: middle;\n",
       "    }\n",
       "\n",
       "    .dataframe tbody tr th {\n",
       "        vertical-align: top;\n",
       "    }\n",
       "\n",
       "    .dataframe thead th {\n",
       "        text-align: right;\n",
       "    }\n",
       "</style>\n",
       "<table border=\"1\" class=\"dataframe\">\n",
       "  <thead>\n",
       "    <tr style=\"text-align: right;\">\n",
       "      <th></th>\n",
       "      <th>date</th>\n",
       "      <th>temp</th>\n",
       "    </tr>\n",
       "    <tr>\n",
       "      <th>time</th>\n",
       "      <th></th>\n",
       "      <th></th>\n",
       "    </tr>\n",
       "  </thead>\n",
       "  <tbody>\n",
       "    <tr>\n",
       "      <th>11:30:23</th>\n",
       "      <td>04/01/2020</td>\n",
       "      <td>28.25</td>\n",
       "    </tr>\n",
       "    <tr>\n",
       "      <th>11:30:33</th>\n",
       "      <td>04/01/2020</td>\n",
       "      <td>28.25</td>\n",
       "    </tr>\n",
       "    <tr>\n",
       "      <th>11:30:43</th>\n",
       "      <td>04/01/2020</td>\n",
       "      <td>28.25</td>\n",
       "    </tr>\n",
       "    <tr>\n",
       "      <th>11:30:53</th>\n",
       "      <td>04/01/2020</td>\n",
       "      <td>28.00</td>\n",
       "    </tr>\n",
       "    <tr>\n",
       "      <th>11:31:03</th>\n",
       "      <td>04/01/2020</td>\n",
       "      <td>28.00</td>\n",
       "    </tr>\n",
       "    <tr>\n",
       "      <th>...</th>\n",
       "      <td>...</td>\n",
       "      <td>...</td>\n",
       "    </tr>\n",
       "    <tr>\n",
       "      <th>18:52:38</th>\n",
       "      <td>04/01/2020</td>\n",
       "      <td>32.75</td>\n",
       "    </tr>\n",
       "    <tr>\n",
       "      <th>18:52:48</th>\n",
       "      <td>04/01/2020</td>\n",
       "      <td>32.75</td>\n",
       "    </tr>\n",
       "    <tr>\n",
       "      <th>18:52:58</th>\n",
       "      <td>04/01/2020</td>\n",
       "      <td>32.75</td>\n",
       "    </tr>\n",
       "    <tr>\n",
       "      <th>18:53:08</th>\n",
       "      <td>04/01/2020</td>\n",
       "      <td>32.75</td>\n",
       "    </tr>\n",
       "    <tr>\n",
       "      <th>18:53:18</th>\n",
       "      <td>04/01/2020</td>\n",
       "      <td>32.75</td>\n",
       "    </tr>\n",
       "  </tbody>\n",
       "</table>\n",
       "<p>1672 rows × 2 columns</p>\n",
       "</div>"
      ],
      "text/plain": [
       "                date   temp\n",
       "time                       \n",
       "11:30:23  04/01/2020  28.25\n",
       "11:30:33  04/01/2020  28.25\n",
       "11:30:43  04/01/2020  28.25\n",
       "11:30:53  04/01/2020  28.00\n",
       "11:31:03  04/01/2020  28.00\n",
       "...              ...    ...\n",
       "18:52:38  04/01/2020  32.75\n",
       "18:52:48  04/01/2020  32.75\n",
       "18:52:58  04/01/2020  32.75\n",
       "18:53:08  04/01/2020  32.75\n",
       "18:53:18  04/01/2020  32.75\n",
       "\n",
       "[1672 rows x 2 columns]"
      ]
     },
     "execution_count": 149,
     "metadata": {},
     "output_type": "execute_result"
    }
   ],
   "source": [
    "df.set_index(\"time\")"
   ]
  },
  {
   "cell_type": "code",
   "execution_count": 150,
   "metadata": {},
   "outputs": [],
   "source": [
    "df ['time'] = pd.to_datetime(df['time'])"
   ]
  },
  {
   "cell_type": "code",
   "execution_count": 151,
   "metadata": {},
   "outputs": [],
   "source": [
    "df ['date'] = pd.to_datetime(df['date'])"
   ]
  },
  {
   "cell_type": "code",
   "execution_count": 152,
   "metadata": {},
   "outputs": [
    {
     "data": {
      "text/plain": [
       "time    datetime64[ns]\n",
       "date    datetime64[ns]\n",
       "temp           float64\n",
       "dtype: object"
      ]
     },
     "execution_count": 152,
     "metadata": {},
     "output_type": "execute_result"
    }
   ],
   "source": [
    "df.dtypes"
   ]
  },
  {
   "cell_type": "code",
   "execution_count": 154,
   "metadata": {},
   "outputs": [],
   "source": [
    "x = df.groupby([pd.Grouper(key='time',freq='1h')]).size().reset_index(name='count')"
   ]
  },
  {
   "cell_type": "code",
   "execution_count": null,
   "metadata": {},
   "outputs": [],
   "source": []
  },
  {
   "cell_type": "code",
   "execution_count": 155,
   "metadata": {},
   "outputs": [
    {
     "name": "stdout",
     "output_type": "stream",
     "text": [
      "Pandas(time=Timestamp('2020-04-01 11:00:00'), count=37) 2020-04-01 11:00:00\n",
      "Pandas(time=Timestamp('2020-04-01 12:00:00'), count=0) 2020-04-01 12:00:00\n",
      "Pandas(time=Timestamp('2020-04-01 13:00:00'), count=0) 2020-04-01 13:00:00\n",
      "Pandas(time=Timestamp('2020-04-01 14:00:00'), count=262) 2020-04-01 14:00:00\n",
      "Pandas(time=Timestamp('2020-04-01 15:00:00'), count=341) 2020-04-01 15:00:00\n",
      "Pandas(time=Timestamp('2020-04-01 16:00:00'), count=354) 2020-04-01 16:00:00\n",
      "Pandas(time=Timestamp('2020-04-01 17:00:00'), count=359) 2020-04-01 17:00:00\n",
      "Pandas(time=Timestamp('2020-04-01 18:00:00'), count=319) 2020-04-01 18:00:00\n"
     ]
    }
   ],
   "source": [
    "for row in x.itertuples(index=False):\n",
    "    print(row,row.time)"
   ]
  },
  {
   "cell_type": "code",
   "execution_count": 156,
   "metadata": {},
   "outputs": [],
   "source": [
    "%matplotlib inline\n",
    "import matplotlib.pyplot as plt\n",
    "# plt.rcParams['figure.dpi'] = 100\n",
    "plt.rcParams[\"figure.figsize\"] = (30, 5) # (w, h)"
   ]
  },
  {
   "cell_type": "code",
   "execution_count": 157,
   "metadata": {},
   "outputs": [
    {
     "data": {
      "text/html": [
       "<div>\n",
       "<style scoped>\n",
       "    .dataframe tbody tr th:only-of-type {\n",
       "        vertical-align: middle;\n",
       "    }\n",
       "\n",
       "    .dataframe tbody tr th {\n",
       "        vertical-align: top;\n",
       "    }\n",
       "\n",
       "    .dataframe thead th {\n",
       "        text-align: right;\n",
       "    }\n",
       "</style>\n",
       "<table border=\"1\" class=\"dataframe\">\n",
       "  <thead>\n",
       "    <tr style=\"text-align: right;\">\n",
       "      <th></th>\n",
       "      <th>date</th>\n",
       "      <th>temp</th>\n",
       "    </tr>\n",
       "    <tr>\n",
       "      <th>time</th>\n",
       "      <th></th>\n",
       "      <th></th>\n",
       "    </tr>\n",
       "  </thead>\n",
       "  <tbody>\n",
       "    <tr>\n",
       "      <th>2020-04-01 11:30:23</th>\n",
       "      <td>2020-04-01</td>\n",
       "      <td>28.25</td>\n",
       "    </tr>\n",
       "    <tr>\n",
       "      <th>2020-04-01 11:30:33</th>\n",
       "      <td>2020-04-01</td>\n",
       "      <td>28.25</td>\n",
       "    </tr>\n",
       "    <tr>\n",
       "      <th>2020-04-01 11:30:43</th>\n",
       "      <td>2020-04-01</td>\n",
       "      <td>28.25</td>\n",
       "    </tr>\n",
       "    <tr>\n",
       "      <th>2020-04-01 11:30:53</th>\n",
       "      <td>2020-04-01</td>\n",
       "      <td>28.00</td>\n",
       "    </tr>\n",
       "    <tr>\n",
       "      <th>2020-04-01 11:31:03</th>\n",
       "      <td>2020-04-01</td>\n",
       "      <td>28.00</td>\n",
       "    </tr>\n",
       "    <tr>\n",
       "      <th>...</th>\n",
       "      <td>...</td>\n",
       "      <td>...</td>\n",
       "    </tr>\n",
       "    <tr>\n",
       "      <th>2020-04-01 18:52:38</th>\n",
       "      <td>2020-04-01</td>\n",
       "      <td>32.75</td>\n",
       "    </tr>\n",
       "    <tr>\n",
       "      <th>2020-04-01 18:52:48</th>\n",
       "      <td>2020-04-01</td>\n",
       "      <td>32.75</td>\n",
       "    </tr>\n",
       "    <tr>\n",
       "      <th>2020-04-01 18:52:58</th>\n",
       "      <td>2020-04-01</td>\n",
       "      <td>32.75</td>\n",
       "    </tr>\n",
       "    <tr>\n",
       "      <th>2020-04-01 18:53:08</th>\n",
       "      <td>2020-04-01</td>\n",
       "      <td>32.75</td>\n",
       "    </tr>\n",
       "    <tr>\n",
       "      <th>2020-04-01 18:53:18</th>\n",
       "      <td>2020-04-01</td>\n",
       "      <td>32.75</td>\n",
       "    </tr>\n",
       "  </tbody>\n",
       "</table>\n",
       "<p>1672 rows × 2 columns</p>\n",
       "</div>"
      ],
      "text/plain": [
       "                          date   temp\n",
       "time                                 \n",
       "2020-04-01 11:30:23 2020-04-01  28.25\n",
       "2020-04-01 11:30:33 2020-04-01  28.25\n",
       "2020-04-01 11:30:43 2020-04-01  28.25\n",
       "2020-04-01 11:30:53 2020-04-01  28.00\n",
       "2020-04-01 11:31:03 2020-04-01  28.00\n",
       "...                        ...    ...\n",
       "2020-04-01 18:52:38 2020-04-01  32.75\n",
       "2020-04-01 18:52:48 2020-04-01  32.75\n",
       "2020-04-01 18:52:58 2020-04-01  32.75\n",
       "2020-04-01 18:53:08 2020-04-01  32.75\n",
       "2020-04-01 18:53:18 2020-04-01  32.75\n",
       "\n",
       "[1672 rows x 2 columns]"
      ]
     },
     "execution_count": 157,
     "metadata": {},
     "output_type": "execute_result"
    }
   ],
   "source": [
    "df.set_index('time')"
   ]
  },
  {
   "cell_type": "code",
   "execution_count": 158,
   "metadata": {},
   "outputs": [],
   "source": [
    "df = df.set_index('time')"
   ]
  },
  {
   "cell_type": "code",
   "execution_count": 160,
   "metadata": {},
   "outputs": [],
   "source": [
    "df2 = df.resample('5Min').median().reset_index()\n",
    "df2.dropna(inplace=True)"
   ]
  },
  {
   "cell_type": "code",
   "execution_count": 164,
   "metadata": {},
   "outputs": [
    {
     "data": {
      "text/plain": [
       "[<matplotlib.lines.Line2D at 0x1259ee410>]"
      ]
     },
     "execution_count": 164,
     "metadata": {},
     "output_type": "execute_result"
    },
    {
     "data": {
      "image/png": "[encoded data removed]",
      "text/plain": [
       "<Figure size 2160x360 with 1 Axes>"
      ]
     },
     "metadata": {
      "needs_background": "light"
     },
     "output_type": "display_data"
    }
   ],
   "source": [
    "plt.title(\"Temperature (DS3231)\")\n",
    "plt.xticks(rotation=90)\n",
    "plt.plot(df2.time.dt.strftime('%H:%M'), df2.temp)\n"
   ]
  },
  {
   "cell_type": "code",
   "execution_count": 165,
   "metadata": {},
   "outputs": [
    {
     "data": {
      "image/png": "[encoded data removed]",
      "text/plain": [
       "<Figure size 2160x360 with 1 Axes>"
      ]
     },
     "metadata": {
      "needs_background": "light"
     },
     "output_type": "display_data"
    }
   ],
   "source": [
    "ax = x.plot.bar(x='time', y='count', rot=0)"
   ]
  },
  {
   "cell_type": "code",
   "execution_count": null,
   "metadata": {},
   "outputs": [],
   "source": []
  }
 ],
 "metadata": {
  "kernelspec": {
   "display_name": "Python 3",
   "language": "python",
   "name": "python3"
  },
  "language_info": {
   "codemirror_mode": {
    "name": "ipython",
    "version": 3
   },
   "file_extension": ".py",
   "mimetype": "text/x-python",
   "name": "python",
   "nbconvert_exporter": "python",
   "pygments_lexer": "ipython3",
   "version": "3.7.5"
  }
 },
 "nbformat": 4,
 "nbformat_minor": 4
}
